{
 "cells": [
  {
   "cell_type": "markdown",
   "metadata": {},
   "source": [
    "## Bibliothèques & données"
   ]
  },
  {
   "cell_type": "code",
   "execution_count": 1,
   "metadata": {},
   "outputs": [],
   "source": [
    "import pandas as pd\n",
    "import numpy as np\n",
    "import matplotlib.pyplot as plt\n",
    "import seaborn as sns\n",
    "\n",
    "#Librairie Scikit-Learn\n",
    "from sklearn.linear_model import LinearRegression\n",
    "from sklearn.model_selection import train_test_split\n",
    "from sklearn.metrics import mean_squared_error\n",
    "from sklearn.metrics import mean_absolute_error\n",
    "from sklearn.preprocessing import OneHotEncoder\n",
    "from sklearn import preprocessing\n",
    "from sklearn.preprocessing import StandardScaler\n",
    "from sklearn.preprocessing import PolynomialFeatures"
   ]
  },
  {
   "cell_type": "markdown",
   "metadata": {},
   "source": [
    "## I. Régression linéaire simple"
   ]
  },
  {
   "cell_type": "code",
   "execution_count": 2,
   "metadata": {},
   "outputs": [
    {
     "data": {
      "text/html": [
       "<div>\n",
       "<style scoped>\n",
       "    .dataframe tbody tr th:only-of-type {\n",
       "        vertical-align: middle;\n",
       "    }\n",
       "\n",
       "    .dataframe tbody tr th {\n",
       "        vertical-align: top;\n",
       "    }\n",
       "\n",
       "    .dataframe thead th {\n",
       "        text-align: right;\n",
       "    }\n",
       "</style>\n",
       "<table border=\"1\" class=\"dataframe\">\n",
       "  <thead>\n",
       "    <tr style=\"text-align: right;\">\n",
       "      <th></th>\n",
       "      <th>heure_rev</th>\n",
       "      <th>note</th>\n",
       "    </tr>\n",
       "  </thead>\n",
       "  <tbody>\n",
       "    <tr>\n",
       "      <th>0</th>\n",
       "      <td>2</td>\n",
       "      <td>10</td>\n",
       "    </tr>\n",
       "    <tr>\n",
       "      <th>1</th>\n",
       "      <td>3</td>\n",
       "      <td>12</td>\n",
       "    </tr>\n",
       "    <tr>\n",
       "      <th>2</th>\n",
       "      <td>4</td>\n",
       "      <td>20</td>\n",
       "    </tr>\n",
       "    <tr>\n",
       "      <th>3</th>\n",
       "      <td>5</td>\n",
       "      <td>22</td>\n",
       "    </tr>\n",
       "    <tr>\n",
       "      <th>4</th>\n",
       "      <td>6</td>\n",
       "      <td>21</td>\n",
       "    </tr>\n",
       "  </tbody>\n",
       "</table>\n",
       "</div>"
      ],
      "text/plain": [
       "   heure_rev  note\n",
       "0          2    10\n",
       "1          3    12\n",
       "2          4    20\n",
       "3          5    22\n",
       "4          6    21"
      ]
     },
     "execution_count": 2,
     "metadata": {},
     "output_type": "execute_result"
    }
   ],
   "source": [
    "path = \"reg_simple.csv\"\n",
    "reg_simple = pd.read_csv(path)\n",
    "reg_simple.head()"
   ]
  },
  {
   "cell_type": "code",
   "execution_count": 3,
   "metadata": {},
   "outputs": [
    {
     "data": {
      "image/png": "[encoded data removed]",
      "text/plain": [
       "<Figure size 432x288 with 1 Axes>"
      ]
     },
     "metadata": {
      "needs_background": "light"
     },
     "output_type": "display_data"
    }
   ],
   "source": [
    "#plot\n",
    "fig, ax = plt.subplots()\n",
    "\n",
    "ax.scatter(reg_simple[\"heure_rev\"], reg_simple[\"note\"], c = 'red', marker= '^')\n",
    "plt.show()"
   ]
  },
  {
   "cell_type": "code",
   "execution_count": 4,
   "metadata": {},
   "outputs": [
    {
     "data": {
      "text/plain": [
       "(27, 1)"
      ]
     },
     "execution_count": 4,
     "metadata": {},
     "output_type": "execute_result"
    }
   ],
   "source": [
    "xn= np.array(reg_simple[\"heure_rev\"])\n",
    "xn=xn.reshape(len(xn), 1)\n",
    "#x1 = []\n",
    "#for i in range(len(xn)):\n",
    "#    x1.append(1)\n",
    "x1 =np.ones(xn.shape)\n",
    "x1.shape"
   ]
  },
  {
   "cell_type": "code",
   "execution_count": 5,
   "metadata": {},
   "outputs": [
    {
     "data": {
      "text/plain": [
       "(27, 1)"
      ]
     },
     "execution_count": 5,
     "metadata": {},
     "output_type": "execute_result"
    }
   ],
   "source": [
    "xn.shape"
   ]
  },
  {
   "cell_type": "code",
   "execution_count": 6,
   "metadata": {},
   "outputs": [
    {
     "data": {
      "text/plain": [
       "array([[ 2.,  1.],\n",
       "       [ 3.,  1.],\n",
       "       [ 4.,  1.],\n",
       "       [ 5.,  1.],\n",
       "       [ 6.,  1.],\n",
       "       [ 7.,  1.],\n",
       "       [ 8.,  1.],\n",
       "       [ 9.,  1.],\n",
       "       [10.,  1.],\n",
       "       [11.,  1.],\n",
       "       [12.,  1.],\n",
       "       [13.,  1.],\n",
       "       [14.,  1.],\n",
       "       [15.,  1.],\n",
       "       [16.,  1.],\n",
       "       [17.,  1.],\n",
       "       [18.,  1.],\n",
       "       [19.,  1.],\n",
       "       [20.,  1.],\n",
       "       [21.,  1.],\n",
       "       [22.,  1.],\n",
       "       [23.,  1.],\n",
       "       [24.,  1.],\n",
       "       [25.,  1.],\n",
       "       [26.,  1.],\n",
       "       [29.,  1.],\n",
       "       [30.,  1.]])"
      ]
     },
     "execution_count": 6,
     "metadata": {},
     "output_type": "execute_result"
    }
   ],
   "source": [
    "#Création de la matrice X, composée de la feature xn (colonne heure_rev)\n",
    "X = np.hstack((xn, x1))\n",
    "X"
   ]
  },
  {
   "cell_type": "code",
   "execution_count": 7,
   "metadata": {},
   "outputs": [
    {
     "data": {
      "text/plain": [
       "array([[-2.86925163],\n",
       "       [ 0.49726798]])"
      ]
     },
     "execution_count": 7,
     "metadata": {},
     "output_type": "execute_result"
    }
   ],
   "source": [
    "#Création du theta\n",
    "a = np.random.randint(0, 10)\n",
    "b = np.random.randint(0, 10)\n",
    "theta = np.hstack((a, b))\n",
    "theta=np.random.randn(2,1)\n",
    "theta"
   ]
  },
  {
   "cell_type": "markdown",
   "metadata": {},
   "source": [
    "### 3. Création du modèle"
   ]
  },
  {
   "cell_type": "code",
   "execution_count": 8,
   "metadata": {},
   "outputs": [],
   "source": [
    "def model(X, theta):\n",
    "    F = X.dot(theta)\n",
    "    return F"
   ]
  },
  {
   "cell_type": "code",
   "execution_count": 9,
   "metadata": {},
   "outputs": [
    {
     "data": {
      "text/plain": [
       "array([[ -5.24123529],\n",
       "       [ -8.11048693],\n",
       "       [-10.97973856],\n",
       "       [-13.8489902 ],\n",
       "       [-16.71824183],\n",
       "       [-19.58749347],\n",
       "       [-22.4567451 ],\n",
       "       [-25.32599674],\n",
       "       [-28.19524837],\n",
       "       [-31.06450001],\n",
       "       [-33.93375164],\n",
       "       [-36.80300328],\n",
       "       [-39.67225491],\n",
       "       [-42.54150655],\n",
       "       [-45.41075818],\n",
       "       [-48.28000982],\n",
       "       [-51.14926145],\n",
       "       [-54.01851309],\n",
       "       [-56.88776472],\n",
       "       [-59.75701636],\n",
       "       [-62.62626799],\n",
       "       [-65.49551962],\n",
       "       [-68.36477126],\n",
       "       [-71.23402289],\n",
       "       [-74.10327453],\n",
       "       [-82.71102943],\n",
       "       [-85.58028107]])"
      ]
     },
     "execution_count": 9,
     "metadata": {},
     "output_type": "execute_result"
    }
   ],
   "source": [
    "y_predit = model(X, theta)\n",
    "y_predit"
   ]
  },
  {
   "cell_type": "code",
   "execution_count": 10,
   "metadata": {},
   "outputs": [
    {
     "data": {
      "image/png": "[encoded data removed]",
      "text/plain": [
       "<Figure size 432x288 with 1 Axes>"
      ]
     },
     "metadata": {
      "needs_background": "light"
     },
     "output_type": "display_data"
    }
   ],
   "source": [
    "plt.scatter(xn,reg_simple[\"note\"])\n",
    "plt.plot(xn,model(X, theta), 'g')\n",
    "plt.show()"
   ]
  },
  {
   "cell_type": "markdown",
   "metadata": {},
   "source": [
    "### 4. Fonction coût"
   ]
  },
  {
   "cell_type": "code",
   "execution_count": 11,
   "metadata": {},
   "outputs": [],
   "source": [
    "def cout(X, y, theta):\n",
    "    m = len(y)\n",
    "    resultat =  1/(2*m) * (np.sum((model(X, theta) - y)**2))\n",
    "    return resultat"
   ]
  },
  {
   "cell_type": "code",
   "execution_count": 12,
   "metadata": {},
   "outputs": [
    {
     "data": {
      "text/plain": [
       "5674.68407113689"
      ]
     },
     "execution_count": 12,
     "metadata": {},
     "output_type": "execute_result"
    }
   ],
   "source": [
    "y_obs = np.array(reg_simple['note'])\n",
    "y_obs = y_obs.reshape(len(y_obs), 1)\n",
    "y_obs\n",
    "cout(X, y_obs, theta)"
   ]
  },
  {
   "cell_type": "markdown",
   "metadata": {},
   "source": [
    "### 5. Fonction gradient"
   ]
  },
  {
   "cell_type": "code",
   "execution_count": 13,
   "metadata": {},
   "outputs": [],
   "source": [
    "def gradient(X, y, theta):\n",
    "    resultat = ((X.T).dot((model(X,theta)) - y))/(len(y))\n",
    "    return resultat"
   ]
  },
  {
   "cell_type": "code",
   "execution_count": 14,
   "metadata": {},
   "outputs": [
    {
     "data": {
      "text/plain": [
       "array([[-1825.42017147],\n",
       "       [  -94.0036179 ]])"
      ]
     },
     "execution_count": 14,
     "metadata": {},
     "output_type": "execute_result"
    }
   ],
   "source": [
    "gradient(X, y_obs, theta)"
   ]
  },
  {
   "cell_type": "markdown",
   "metadata": {},
   "source": [
    "### 6. Fonction gradient descendant"
   ]
  },
  {
   "cell_type": "code",
   "execution_count": 15,
   "metadata": {},
   "outputs": [
    {
     "data": {
      "text/plain": [
       "array([0., 0., 0., 0.])"
      ]
     },
     "execution_count": 15,
     "metadata": {},
     "output_type": "execute_result"
    }
   ],
   "source": [
    "cost_history = np.zeros(4) \n",
    "cost_history"
   ]
  },
  {
   "cell_type": "code",
   "execution_count": 16,
   "metadata": {},
   "outputs": [],
   "source": [
    "def descente_gradient(X, y, theta, alpha, n_iterations):\n",
    "    #création d'un tableau de stockage pour enregistrer l'évolution du coût\n",
    "    cout_evolution = np.zeros(n_iterations)\n",
    "    theta_evolution = []\n",
    "    \n",
    "    for i in range(0, n_iterations):\n",
    "        theta = theta - alpha * gradient(X, y, theta) #on calcule le nouveau theta (un vecteur de 2 lignes x 1 colonne)\n",
    "        cout_evolution[i] =  cout(X, y, theta) # on enregistre le coût pour chaque tour\n",
    "        theta_evolution.append(theta)\n",
    "    return theta, cout_evolution\n"
   ]
  },
  {
   "cell_type": "code",
   "execution_count": 17,
   "metadata": {},
   "outputs": [
    {
     "data": {
      "text/plain": [
       "(array([[3.32082339],\n",
       "        [0.81379772]]),\n",
       " array([2826.30483391, 1410.15493835,  706.07715769,  356.02556688,\n",
       "         181.98781017,   95.46016059,   52.44056187,   31.05218442,\n",
       "          20.41836215,   15.13146207,   12.50293107,   11.1960812 ,\n",
       "          10.54634137,   10.22330183,   10.0626903 ,    9.98283431,\n",
       "           9.94312817,    9.92338361,    9.91356352,    9.90867764,\n",
       "           9.90624494,    9.90503191,    9.90442528,    9.90412013,\n",
       "           9.90396488,    9.90388415,    9.90384047,    9.90381522,\n",
       "           9.90379913,    9.9037876 ]))"
      ]
     },
     "execution_count": 17,
     "metadata": {},
     "output_type": "execute_result"
    }
   ],
   "source": [
    "alpha = 0.001\n",
    "n_iteration = 30\n",
    "descente_gradient(X, y_obs, theta, alpha, n_iteration)"
   ]
  },
  {
   "cell_type": "markdown",
   "metadata": {},
   "source": [
    "### 7. Evaluer votre modèle en utilisant le coefficient de détermination"
   ]
  },
  {
   "cell_type": "code",
   "execution_count": 18,
   "metadata": {},
   "outputs": [],
   "source": [
    "#Fontion pour calculer le coefficient de détermination\n",
    "def coeff_determination(X, y, theta):\n",
    "    i = y - model(X, theta)\n",
    "    j = y - np.mean(y)\n",
    "    r2 = 1-(np.sum(i**2)/np.sum(j**2))\n",
    "    return r2 "
   ]
  },
  {
   "cell_type": "code",
   "execution_count": 19,
   "metadata": {},
   "outputs": [
    {
     "data": {
      "text/plain": [
       "0.9732770938789208"
      ]
     },
     "execution_count": 19,
     "metadata": {},
     "output_type": "execute_result"
    }
   ],
   "source": [
    "new_theta, cout_evolution = descente_gradient(X, y_obs, theta, alpha, n_iteration)\n",
    "coeff_determination(X, y_obs, new_theta)"
   ]
  },
  {
   "cell_type": "code",
   "execution_count": 20,
   "metadata": {},
   "outputs": [
    {
     "data": {
      "image/png": "[encoded data removed]",
      "text/plain": [
       "<Figure size 432x288 with 1 Axes>"
      ]
     },
     "metadata": {
      "needs_background": "light"
     },
     "output_type": "display_data"
    }
   ],
   "source": [
    "#Nouveau y_predits avec les nouveaux paramètres a & b\n",
    "y_predits = model(X, new_theta)\n",
    "\n",
    "#Plot de valeurs prédites avec valeurs observées\n",
    "plt.scatter(y_obs, y_predits)\n",
    "plt.show()"
   ]
  },
  {
   "cell_type": "code",
   "execution_count": 21,
   "metadata": {
    "scrolled": true
   },
   "outputs": [
    {
     "data": {
      "image/png": "[encoded data removed]",
      "text/plain": [
       "<Figure size 432x288 with 1 Axes>"
      ]
     },
     "metadata": {
      "needs_background": "light"
     },
     "output_type": "display_data"
    }
   ],
   "source": [
    "#plt.scatter(xn, y_obs)\n",
    "plt.scatter(xn, y_obs)\n",
    "plt.plot(xn,y_predits, c = 'salmon')\n",
    "plt.title('Regression linéaire')\n",
    "plt.show()"
   ]
  },
  {
   "cell_type": "markdown",
   "metadata": {},
   "source": [
    "### 8. Tracer la courbe de la fonction du coût selon les itérations"
   ]
  },
  {
   "cell_type": "code",
   "execution_count": 22,
   "metadata": {},
   "outputs": [
    {
     "data": {
      "image/png": "[encoded data removed]",
      "text/plain": [
       "<Figure size 432x288 with 1 Axes>"
      ]
     },
     "metadata": {
      "needs_background": "light"
     },
     "output_type": "display_data"
    }
   ],
   "source": [
    "# Définition des variables\n",
    "n = np.arange(30)\n",
    "#cout_evolution = descente_gradient(X, y_obs, theta, 0.01, 30)[1]\n",
    "\n",
    "# Plot\n",
    "plt.scatter(n, cout_evolution)\n",
    "plt.show()"
   ]
  },
  {
   "cell_type": "markdown",
   "metadata": {},
   "source": [
    "#### Calcul de l'erreur"
   ]
  },
  {
   "cell_type": "code",
   "execution_count": 23,
   "metadata": {},
   "outputs": [
    {
     "data": {
      "text/plain": [
       "9.90378760118324"
      ]
     },
     "execution_count": 23,
     "metadata": {},
     "output_type": "execute_result"
    }
   ],
   "source": [
    "#mse_lin_manuel = mean_squared_error(y_obs, y_predits)\n",
    "#mse_lin_manuel\n",
    "####\n",
    "mse_lin_manuel = cout(X, y_obs, new_theta)\n",
    "mse_lin_manuel"
   ]
  },
  {
   "cell_type": "markdown",
   "metadata": {},
   "source": [
    "## II. Régression linéaire multiple"
   ]
  },
  {
   "cell_type": "code",
   "execution_count": 24,
   "metadata": {},
   "outputs": [
    {
     "data": {
      "text/html": [
       "<div>\n",
       "<style scoped>\n",
       "    .dataframe tbody tr th:only-of-type {\n",
       "        vertical-align: middle;\n",
       "    }\n",
       "\n",
       "    .dataframe tbody tr th {\n",
       "        vertical-align: top;\n",
       "    }\n",
       "\n",
       "    .dataframe thead th {\n",
       "        text-align: right;\n",
       "    }\n",
       "</style>\n",
       "<table border=\"1\" class=\"dataframe\">\n",
       "  <thead>\n",
       "    <tr style=\"text-align: right;\">\n",
       "      <th></th>\n",
       "      <th>CRIM</th>\n",
       "      <th>ZN</th>\n",
       "      <th>INDUS</th>\n",
       "      <th>CHAS</th>\n",
       "      <th>NOX</th>\n",
       "      <th>RM</th>\n",
       "      <th>AGE</th>\n",
       "      <th>DIS</th>\n",
       "      <th>RAD</th>\n",
       "      <th>TAX</th>\n",
       "      <th>PTRATIO</th>\n",
       "      <th>B</th>\n",
       "      <th>LSTAT</th>\n",
       "      <th>MEDV</th>\n",
       "    </tr>\n",
       "  </thead>\n",
       "  <tbody>\n",
       "    <tr>\n",
       "      <th>0</th>\n",
       "      <td>0.00632</td>\n",
       "      <td>18.0</td>\n",
       "      <td>2.31</td>\n",
       "      <td>0</td>\n",
       "      <td>0.538</td>\n",
       "      <td>6.575</td>\n",
       "      <td>65.2</td>\n",
       "      <td>4.0900</td>\n",
       "      <td>1</td>\n",
       "      <td>296</td>\n",
       "      <td>15.3</td>\n",
       "      <td>396.90</td>\n",
       "      <td>4.98</td>\n",
       "      <td>24.0</td>\n",
       "    </tr>\n",
       "    <tr>\n",
       "      <th>1</th>\n",
       "      <td>0.02731</td>\n",
       "      <td>0.0</td>\n",
       "      <td>7.07</td>\n",
       "      <td>0</td>\n",
       "      <td>0.469</td>\n",
       "      <td>6.421</td>\n",
       "      <td>78.9</td>\n",
       "      <td>4.9671</td>\n",
       "      <td>2</td>\n",
       "      <td>242</td>\n",
       "      <td>17.8</td>\n",
       "      <td>396.90</td>\n",
       "      <td>9.14</td>\n",
       "      <td>21.6</td>\n",
       "    </tr>\n",
       "    <tr>\n",
       "      <th>2</th>\n",
       "      <td>0.02729</td>\n",
       "      <td>0.0</td>\n",
       "      <td>7.07</td>\n",
       "      <td>0</td>\n",
       "      <td>0.469</td>\n",
       "      <td>7.185</td>\n",
       "      <td>61.1</td>\n",
       "      <td>4.9671</td>\n",
       "      <td>2</td>\n",
       "      <td>242</td>\n",
       "      <td>17.8</td>\n",
       "      <td>392.83</td>\n",
       "      <td>4.03</td>\n",
       "      <td>34.7</td>\n",
       "    </tr>\n",
       "    <tr>\n",
       "      <th>3</th>\n",
       "      <td>0.03237</td>\n",
       "      <td>0.0</td>\n",
       "      <td>2.18</td>\n",
       "      <td>0</td>\n",
       "      <td>0.458</td>\n",
       "      <td>6.998</td>\n",
       "      <td>45.8</td>\n",
       "      <td>6.0622</td>\n",
       "      <td>3</td>\n",
       "      <td>222</td>\n",
       "      <td>18.7</td>\n",
       "      <td>394.63</td>\n",
       "      <td>2.94</td>\n",
       "      <td>33.4</td>\n",
       "    </tr>\n",
       "    <tr>\n",
       "      <th>4</th>\n",
       "      <td>0.06905</td>\n",
       "      <td>0.0</td>\n",
       "      <td>2.18</td>\n",
       "      <td>0</td>\n",
       "      <td>0.458</td>\n",
       "      <td>7.147</td>\n",
       "      <td>54.2</td>\n",
       "      <td>6.0622</td>\n",
       "      <td>3</td>\n",
       "      <td>222</td>\n",
       "      <td>18.7</td>\n",
       "      <td>396.90</td>\n",
       "      <td>5.33</td>\n",
       "      <td>36.2</td>\n",
       "    </tr>\n",
       "  </tbody>\n",
       "</table>\n",
       "</div>"
      ],
      "text/plain": [
       "      CRIM    ZN  INDUS  CHAS    NOX     RM   AGE     DIS  RAD  TAX  PTRATIO  \\\n",
       "0  0.00632  18.0   2.31     0  0.538  6.575  65.2  4.0900    1  296     15.3   \n",
       "1  0.02731   0.0   7.07     0  0.469  6.421  78.9  4.9671    2  242     17.8   \n",
       "2  0.02729   0.0   7.07     0  0.469  7.185  61.1  4.9671    2  242     17.8   \n",
       "3  0.03237   0.0   2.18     0  0.458  6.998  45.8  6.0622    3  222     18.7   \n",
       "4  0.06905   0.0   2.18     0  0.458  7.147  54.2  6.0622    3  222     18.7   \n",
       "\n",
       "        B  LSTAT  MEDV  \n",
       "0  396.90   4.98  24.0  \n",
       "1  396.90   9.14  21.6  \n",
       "2  392.83   4.03  34.7  \n",
       "3  394.63   2.94  33.4  \n",
       "4  396.90   5.33  36.2  "
      ]
     },
     "execution_count": 24,
     "metadata": {},
     "output_type": "execute_result"
    }
   ],
   "source": [
    "path2 = \"boston_house_prices.csv\"\n",
    "boston_prices = pd.read_csv(path2)\n",
    "boston_prices.head()"
   ]
  },
  {
   "cell_type": "code",
   "execution_count": 25,
   "metadata": {},
   "outputs": [
    {
     "data": {
      "text/plain": [
       "(506, 14)"
      ]
     },
     "execution_count": 25,
     "metadata": {},
     "output_type": "execute_result"
    }
   ],
   "source": [
    "boston_prices.shape"
   ]
  },
  {
   "cell_type": "code",
   "execution_count": 26,
   "metadata": {},
   "outputs": [
    {
     "data": {
      "text/plain": [
       "MEDV       1.000000\n",
       "RM         0.695360\n",
       "ZN         0.360445\n",
       "B          0.333461\n",
       "DIS        0.249929\n",
       "CHAS       0.175260\n",
       "AGE       -0.376955\n",
       "RAD       -0.381626\n",
       "CRIM      -0.388305\n",
       "NOX       -0.427321\n",
       "TAX       -0.468536\n",
       "INDUS     -0.483725\n",
       "PTRATIO   -0.507787\n",
       "LSTAT     -0.737663\n",
       "dtype: float64"
      ]
     },
     "execution_count": 26,
     "metadata": {},
     "output_type": "execute_result"
    }
   ],
   "source": [
    "boston_prices.corrwith(boston_prices['MEDV'], method = 'pearson').sort_values(ascending = False)"
   ]
  },
  {
   "cell_type": "code",
   "execution_count": 27,
   "metadata": {},
   "outputs": [
    {
     "data": {
      "text/plain": [
       "Index(['CRIM', 'ZN', 'INDUS', 'CHAS', 'NOX', 'RM', 'AGE', 'DIS', 'RAD', 'TAX',\n",
       "       'PTRATIO', 'B', 'LSTAT'],\n",
       "      dtype='object')"
      ]
     },
     "execution_count": 27,
     "metadata": {},
     "output_type": "execute_result"
    }
   ],
   "source": [
    "boston_prices.columns[:-1]"
   ]
  },
  {
   "cell_type": "code",
   "execution_count": 28,
   "metadata": {},
   "outputs": [
    {
     "data": {
      "text/plain": [
       "(506,)"
      ]
     },
     "execution_count": 28,
     "metadata": {},
     "output_type": "execute_result"
    }
   ],
   "source": [
    "#Définition des features\n",
    "features = boston_prices[['RM', 'LSTAT']]   # ==> choix des features RM et LSTAT car corrélation forte avec la target MDEV \n",
    "ones = np.ones(features.shape[0]).reshape(len(features), 1)\n",
    "X = np.hstack((features, ones))\n",
    "X.shape\n",
    "\n",
    "#Défintion de la target\n",
    "y_obs = boston_prices['MEDV']\n",
    "y_obs.shape"
   ]
  },
  {
   "cell_type": "code",
   "execution_count": 29,
   "metadata": {},
   "outputs": [
    {
     "data": {
      "text/plain": [
       "array([4, 2, 9])"
      ]
     },
     "execution_count": 29,
     "metadata": {},
     "output_type": "execute_result"
    }
   ],
   "source": [
    "#Définition du theta\n",
    "a = np.random.randint(0, 10)\n",
    "b = np.random.randint(0, 10)\n",
    "c = np.random.randint(0, 10)\n",
    "theta = np.hstack((a,b,c))\n",
    "theta"
   ]
  },
  {
   "cell_type": "markdown",
   "metadata": {},
   "source": [
    "### 1. Calcul du modèle"
   ]
  },
  {
   "cell_type": "code",
   "execution_count": 30,
   "metadata": {},
   "outputs": [
    {
     "data": {
      "text/plain": [
       "array([ 45.26 ,  52.964,  45.8  ,  42.872,  48.248,  45.14 ,  57.908,\n",
       "        71.988,  91.384,  67.216,  75.408,  59.576,  63.976,  49.316,\n",
       "        53.904,  49.276,  45.9  ,  62.3  ,  54.204,  54.468,  73.32 ,\n",
       "        60.52 ,  71.008,  72.012,  65.296,  64.416,  61.872,  67.748,\n",
       "        60.58 ,  59.656,  77.052,  59.368,  88.22 ,  68.504,  74.064,\n",
       "        52.092,  55.184,  49.94 ,  53.124,  44.02 ,  41.056,  45.76 ,\n",
       "        45.296,  48.724,  52.376,  52.148,  60.444,  70.72 ,  92.216,\n",
       "        63.808,  59.752,  52.32 ,  45.604,  49.852,  62.152,  47.616,\n",
       "        46.072,  44.164,  47.3  ,  51.148,  58.264,  61.744,  48.284,\n",
       "        55.048,  53.516,  43.5  ,  52.628,  48.712,  57.556,  50.12 ,\n",
       "        48.108,  52.604,  44.3  ,  49.06 ,  47.652,  52.024,  58.056,\n",
       "        54.1  ,  58.608,  50.696,  46.488,  49.916,  47.648,  48.688,\n",
       "        53.796,  48.58 ,  58.78 ,  50.364,  48.028,  48.716,  52.288,\n",
       "        51.02 ,  51.088,  46.264,  55.176,  48.8  ,  56.332,  49.696,\n",
       "        47.42 ,  51.044,  54.748,  51.464,  55.88 ,  60.428,  58.328,\n",
       "        65.344,  69.664,  61.688,  59.436,  65.016,  59.78 ,  56.18 ,\n",
       "        65.072,  67.548,  54.916,  64.232,  57.784,  53.684,  63.228,\n",
       "        59.144,  61.22 ,  61.556,  68.704,  83.244,  67.676,  62.564,\n",
       "        85.972,  66.152,  65.504,  68.228,  60.032,  58.824,  56.728,\n",
       "        62.348,  66.648,  68.26 ,  66.568,  63.996,  75.068,  70.524,\n",
       "        82.016,  97.896,  84.252,  83.712,  87.192,  89.12 ,  64.812,\n",
       "        87.764,  86.384,  74.288,  61.688,  57.176,  53.288,  63.416,\n",
       "        63.756,  63.648,  62.368,  45.952,  46.124,  49.82 ,  45.   ,\n",
       "        42.416,  44.048,  49.14 ,  55.696,  53.024,  48.116,  56.788,\n",
       "        56.476,  57.248,  61.36 ,  56.58 ,  60.668,  52.744,  51.716,\n",
       "        45.844,  53.3  ,  46.84 ,  50.28 ,  47.   ,  55.18 ,  52.476,\n",
       "        47.26 ,  46.612,  59.376,  59.912,  49.224,  49.488,  44.344,\n",
       "        48.52 ,  47.004,  45.336,  43.452,  46.26 ,  44.176,  46.44 ,\n",
       "        46.308,  54.648,  51.336,  46.02 ,  46.44 ,  48.508,  45.66 ,\n",
       "        48.032,  46.896,  54.304,  56.244,  68.252,  62.576,  76.556,\n",
       "        67.38 ,  78.576,  64.288,  53.26 ,  89.748,  52.668,  59.572,\n",
       "        54.948,  68.644,  55.492,  56.224,  76.576,  56.376,  50.672,\n",
       "        50.344,  53.16 ,  47.42 ,  50.372,  47.584,  42.728,  56.224,\n",
       "        49.148,  47.288,  49.888,  52.004,  55.104,  54.604,  47.892,\n",
       "        47.644,  50.164,  59.348,  58.18 ,  56.872,  44.952,  56.372,\n",
       "        68.34 ,  51.752,  54.204,  53.772,  48.992,  46.748,  41.932,\n",
       "        43.888,  49.116,  46.572,  51.004,  45.036,  54.056,  53.912,\n",
       "        50.168,  56.992,  53.6  ,  54.412,  60.808,  54.024,  52.14 ,\n",
       "        66.636,  57.068,  45.2  ,  59.98 ,  58.424,  47.14 ,  50.612,\n",
       "        52.924,  43.092,  42.376,  50.168,  44.624,  49.308,  45.948,\n",
       "        47.8  ,  46.052,  45.6  ,  47.012,  53.052,  51.272,  59.78 ,\n",
       "        48.116,  49.46 ,  54.28 ,  43.104,  44.712,  44.92 ,  50.668,\n",
       "        53.836,  48.252,  49.976,  63.84 ,  44.32 ,  46.644,  48.624,\n",
       "        54.36 ,  52.32 ,  46.648,  51.804,  53.324,  51.62 ,  51.456,\n",
       "        44.62 ,  52.828,  54.172,  45.448,  56.532,  49.864,  53.828,\n",
       "        54.82 ,  69.316,  64.008,  55.248,  58.912,  49.104,  48.244,\n",
       "        48.564,  55.312,  46.9  ,  44.884,  46.548,  58.912,  52.412,\n",
       "        49.012,  51.756,  56.684,  48.784,  45.624,  47.74 ,  49.168,\n",
       "        52.076,  53.7  ,  50.256,  52.42 ,  51.452,  48.944,  52.46 ,\n",
       "        50.144,  45.716,  54.116,  57.932,  47.784,  47.52 ,  48.536,\n",
       "        46.92 ,  46.296,  48.116,  44.912,  47.752,  43.884,  69.048,\n",
       "        61.12 ,  56.468,  58.788,  50.172,  62.384,  50.828,  61.492,\n",
       "        54.7  ,  37.484,  56.852,  51.112,  35.4  ,  43.192,  42.984,\n",
       "        52.924,  50.26 ,  98.164, 101.492,  65.132,  82.076,  78.656,\n",
       "        81.9  ,  77.452,  71.292,  77.34 ,  78.344,  80.2  ,  87.732,\n",
       "        91.728,  84.168,  92.98 ,  89.76 ,  72.26 ,  66.072,  70.724,\n",
       "        80.504,  64.112,  65.248,  69.124,  73.36 ,  71.828,  91.992,\n",
       "        92.348,  86.488,  75.012,  75.236,  69.936,  85.884,  77.692,\n",
       "        72.232,  55.692,  84.268,  75.968,  52.248,  78.068,  96.252,\n",
       "        69.78 , 101.036,  92.836,  87.708,  83.496,  74.068,  81.776,\n",
       "        64.684,  64.424,  59.792,  79.992,  65.58 ,  81.364,  63.728,\n",
       "        62.848,  76.812,  82.68 ,  69.672,  75.712,  58.76 ,  67.184,\n",
       "        64.172,  82.056,  70.944,  86.508, 100.78 ,  77.268,  76.492,\n",
       "        73.664,  67.056,  72.64 ,  79.996,  82.796,  69.944,  66.884,\n",
       "        70.   ,  73.288,  70.876,  71.08 ,  68.728,  72.052,  73.332,\n",
       "        71.36 ,  70.924,  66.624,  66.664,  62.724,  68.644,  63.804,\n",
       "        62.248,  55.632,  60.276,  60.296,  67.108,  75.652,  68.964,\n",
       "        61.372,  66.248,  59.656,  63.468,  60.24 ,  66.988,  81.848,\n",
       "        72.296,  80.036,  69.8  ,  60.136,  55.448,  51.48 ,  51.264,\n",
       "        52.888,  59.164,  55.408,  63.416,  55.52 ,  66.936,  78.596,\n",
       "        88.732,  69.072,  59.632,  55.848,  59.884,  66.88 ,  72.84 ,\n",
       "        60.376,  58.916,  61.476,  61.768,  54.712,  51.64 ,  48.184,\n",
       "        49.136,  48.88 ])"
      ]
     },
     "execution_count": 30,
     "metadata": {},
     "output_type": "execute_result"
    }
   ],
   "source": [
    "y_predicts = model(X, theta)\n",
    "y_predicts"
   ]
  },
  {
   "cell_type": "markdown",
   "metadata": {},
   "source": [
    "### 2. Calcul de la fonction coût"
   ]
  },
  {
   "cell_type": "code",
   "execution_count": 31,
   "metadata": {},
   "outputs": [
    {
     "data": {
      "text/plain": [
       "883.3580006640316"
      ]
     },
     "execution_count": 31,
     "metadata": {},
     "output_type": "execute_result"
    }
   ],
   "source": [
    "cout_reg_mult = cout(X, y_obs, theta)\n",
    "cout_reg_mult"
   ]
  },
  {
   "cell_type": "markdown",
   "metadata": {},
   "source": [
    "### 3. Calcul du gradient"
   ]
  },
  {
   "cell_type": "code",
   "execution_count": 32,
   "metadata": {},
   "outputs": [
    {
     "data": {
      "text/plain": [
       "array([223.31643563, 604.89320095,  36.91185771])"
      ]
     },
     "execution_count": 32,
     "metadata": {},
     "output_type": "execute_result"
    }
   ],
   "source": [
    "gradient_reg_mult = gradient(X, y_obs, theta)\n",
    "gradient_reg_mult"
   ]
  },
  {
   "cell_type": "markdown",
   "metadata": {},
   "source": [
    "### 4. Calcul du gradient descendant"
   ]
  },
  {
   "cell_type": "code",
   "execution_count": 33,
   "metadata": {},
   "outputs": [],
   "source": [
    "alpha = 0.001\n",
    "n_iteration = 30\n",
    "theta_final, cout_evolution_reg_m = descente_gradient(X, y_obs, theta, alpha, n_iteration)"
   ]
  },
  {
   "cell_type": "code",
   "execution_count": 34,
   "metadata": {},
   "outputs": [
    {
     "data": {
      "text/plain": [
       "array([27.22520384, 24.37037729, 29.72916128, 29.7446931 , 28.86964908,\n",
       "       26.62763065, 21.18726065, 17.89260541, 10.03747767, 18.51365913,\n",
       "       17.81599948, 20.7013265 , 18.93125913, 23.34861854, 22.68825556,\n",
       "       22.85904018, 24.2560501 , 19.84633055, 19.81548952, 20.92107168,\n",
       "       14.89279511, 20.24205327, 18.03975449, 16.32206596, 18.70950139,\n",
       "       17.54333735, 19.19668738, 18.55014054, 22.53362271, 23.57526035,\n",
       "       14.45767911, 21.0347091 , 12.32395349, 16.82870957, 16.97303193,\n",
       "       22.49194836, 21.2146528 , 22.74049362, 22.34312506, 27.66385164,\n",
       "       30.37276786, 27.93284007, 25.44653943, 24.65766862, 23.00382637,\n",
       "       21.38276456, 19.48390886, 17.63354988,  8.7910635 , 17.72876867,\n",
       "       20.45106446, 23.22006923, 26.84891036, 23.41010083, 19.44399498,\n",
       "       29.49310937, 26.15869191, 28.58566251, 24.77387956, 22.73343112,\n",
       "       19.90591269, 19.89941336, 25.84957896, 25.26490842, 27.1889069 ,\n",
       "       26.48274623, 21.7040478 , 23.21058598, 19.46632191, 22.84191817,\n",
       "       25.7295972 , 22.46876249, 25.27589451, 24.71051241, 25.23163355,\n",
       "       24.04882665, 22.30830478, 22.82434651, 21.94709347, 22.63071216,\n",
       "       27.53915719, 26.09691495, 25.359086  , 24.47621876, 23.99512501,\n",
       "       26.52357582, 20.95312198, 23.80071686, 28.32220426, 28.4407792 ,\n",
       "       24.54459548, 24.85179519, 24.9936826 , 25.35506198, 22.99409102,\n",
       "       26.43942826, 22.29177322, 32.47520721, 32.03584126, 29.24871474,\n",
       "       25.19750306, 26.36370856, 23.47401806, 21.01733388, 21.74334396,\n",
       "       18.37791962, 17.0878917 , 20.61657431, 22.76646697, 20.11740139,\n",
       "       21.45367445, 24.73927103, 18.72508997, 18.80285061, 23.08957831,\n",
       "       19.02856143, 21.93676657, 22.42393836, 19.06926331, 19.61288055,\n",
       "       19.62980611, 20.11823085, 17.90452139, 13.32516974, 17.83877606,\n",
       "       19.7540651 , 11.49333849, 17.46063919, 20.8589302 , 16.6281819 ,\n",
       "       22.52781205, 22.29530502, 23.08987408, 19.10094688, 17.59879835,\n",
       "       19.65946514, 18.42730256, 21.38662162, 15.64736625, 18.2161675 ,\n",
       "       15.05844685,  5.52561431, 11.06622687, 11.50244083,  8.05485201,\n",
       "       12.85285529, 17.55739251,  7.9928775 ,  9.51660863, 14.73598051,\n",
       "       20.59479526, 18.74644553, 18.14118992, 18.30596963, 20.03902192,\n",
       "       20.1698228 , 16.6995818 , 28.63196441, 24.76315866, 25.64934707,\n",
       "       25.883274  , 32.01266847, 32.91337588, 33.96570716, 21.12612979,\n",
       "       22.95950866, 32.3133132 , 20.91673879, 22.93045648, 23.07313189,\n",
       "       19.6118961 , 20.98877282, 18.48826315, 24.41096675, 22.27621192,\n",
       "       26.93332531, 22.52844396, 25.64477406, 27.0434735 , 28.49602845,\n",
       "       29.59636422, 23.30216276, 29.18458687, 26.78965127, 18.99392231,\n",
       "       21.23330934, 31.57233336, 26.928247  , 27.40212326, 28.95805968,\n",
       "       28.368576  , 27.91801111, 30.36431273, 27.92176774, 27.65882898,\n",
       "       32.55323415, 30.02943928, 26.88105999, 28.54740977, 28.75207277,\n",
       "       29.32993513, 24.50546849, 31.62006936, 32.00608511, 33.11653494,\n",
       "       21.68191733, 23.02671757, 17.25732625, 20.09041632, 12.99099805,\n",
       "       18.27551063, 12.67969028, 18.48563286, 24.08609605,  9.54735033,\n",
       "       23.41325282, 20.17540753, 24.7705606 , 17.87797289, 23.44462753,\n",
       "       25.75476837, 16.55709196, 25.39805911, 25.87823825, 33.14959807,\n",
       "       34.35059767, 32.99411934, 28.33720239, 31.4056699 , 27.84282509,\n",
       "       21.52963317, 29.76879468, 34.32521587, 33.1961106 , 25.97105269,\n",
       "       22.30450559, 24.82016837, 29.88964847, 26.13990987, 25.9699831 ,\n",
       "       24.63392178, 21.47168268, 22.98806972, 26.51976243, 19.79762209,\n",
       "       16.45704475, 23.35060272, 23.16946283, 24.19358447, 26.79008784,\n",
       "       26.42005467, 27.57192343, 29.27807578, 33.46723709, 24.81909768,\n",
       "       22.55210786, 31.11746286, 34.00511573, 28.07412395, 26.99682017,\n",
       "       26.63470955, 28.97711021, 32.57131443, 26.09301974, 27.4891849 ,\n",
       "       20.85362375, 23.07745279, 31.37841964, 31.14066292, 20.19912819,\n",
       "       20.36147186, 25.23304038, 25.54678309, 29.91359506, 28.63693031,\n",
       "       29.25806918, 28.8480392 , 28.49881372, 25.67253294, 28.06248734,\n",
       "       31.92811383, 28.71251032, 31.78953229, 32.60015487, 27.25075481,\n",
       "       24.98943375, 21.60612778, 24.82132089, 24.90202178, 24.62453676,\n",
       "       29.08217677, 29.87643697, 27.56116106, 23.74066977, 22.32857768,\n",
       "       26.82564045, 25.77499869, 18.53858907, 26.4898513 , 28.86265642,\n",
       "       27.5608522 , 24.71075253, 24.87527683, 28.60452969, 28.24921417,\n",
       "       25.11770257, 29.10284587, 26.66217155, 27.66798808, 22.45317391,\n",
       "       17.72070533, 25.19872541, 21.62526125, 24.57405585, 24.76138732,\n",
       "       20.72545425, 17.52630049, 18.45611573, 23.55300217, 21.3425702 ,\n",
       "       25.48644023, 25.51245394, 23.96253992, 20.59904301, 26.06334541,\n",
       "       26.70456073, 25.71448666, 21.21189592, 22.11810291, 25.10743132,\n",
       "       23.50627789, 20.20137867, 23.85661332, 25.99385764, 25.3678511 ,\n",
       "       23.77388677, 22.21771245, 21.87057048, 23.56127394, 22.62546467,\n",
       "       22.82583736, 29.08178387, 25.03159921, 26.36767582, 28.39831796,\n",
       "       22.27097862, 20.68389453, 26.25267415, 26.84585769, 27.88199465,\n",
       "       26.38436126, 26.94892808, 23.4056828 , 27.99029834, 22.54624045,\n",
       "       24.83192827, 18.9003079 , 21.94495541, 22.096409  , 21.37336755,\n",
       "       25.06170679, 20.95938339, 20.3631166 , 19.26085671, 34.1535876 ,\n",
       "       16.30123746, 16.91738536, 13.7532461 , 23.02937292, 28.28189528,\n",
       "       29.79134643, 23.48877607, 22.75867102,  4.95743165,  0.66870448,\n",
       "       24.80621365, 17.11044676, 18.71158601, 15.98862882, 16.56574465,\n",
       "       21.55714105, 18.00006654, 13.32042757, 12.72457117,  5.57140759,\n",
       "        8.39799944,  7.81882737,  6.83650668,  7.22665776, 14.40925223,\n",
       "       17.57043484, 17.72388791, 10.53017743, 20.21687013, 18.56194411,\n",
       "       20.00691707, 18.5185563 , 16.08674529,  9.08977969, 10.72682409,\n",
       "       12.97612873, 17.78016528, 17.98236718, 14.88950232, 11.16110952,\n",
       "       14.14556915,  8.96371656, 20.05573463, 11.9938342 , 19.72625278,\n",
       "       21.68110095, 18.28153413,  4.28855568, 14.08870022,  2.45754081,\n",
       "       13.12356051, 16.09313552, 10.84932261, 16.36644044, 17.9577614 ,\n",
       "       21.00427847, 19.31388387, 19.06764474, 15.32297469, 17.0652537 ,\n",
       "       14.03236941, 18.77506336, 20.61440787, 16.61650603, 15.7675041 ,\n",
       "       19.31579821, 19.71606666, 22.74467373, 20.40444061, 20.26519768,\n",
       "       17.02900044, 19.44740128, 13.68916743,  8.69794131, 14.02184495,\n",
       "       15.07379531, 18.43673016, 19.49551709, 19.07113618, 14.23724416,\n",
       "       16.07872783, 19.20819738, 19.68366383, 18.51281548, 18.59123752,\n",
       "       20.72115196, 20.25387324, 19.36126954, 23.19290522, 19.93342057,\n",
       "       19.60823991, 17.34050355, 18.38529208, 19.96382282, 20.12250808,\n",
       "       21.14483   , 21.10129918, 21.2854219 , 24.01475181, 21.37404314,\n",
       "       19.408259  , 18.31777431, 16.11775439, 17.67835982, 18.90285305,\n",
       "       19.49807753, 21.63692513, 21.46225729, 24.74257801, 16.06499352,\n",
       "       15.053804  , 19.16430205, 11.83020921, 18.56951413, 21.50084838,\n",
       "       22.88649019, 26.22414257, 27.64003386, 21.52144432, 20.21702401,\n",
       "       23.20273659, 20.07007247, 21.39817088, 16.19734202, 12.71757851,\n",
       "        8.44587623, 17.89602369, 20.57219984, 20.44273482, 20.2524784 ,\n",
       "       17.15407249, 14.24482615, 19.53803288, 20.93199014, 18.24613318,\n",
       "       20.1583139 , 24.62403034, 23.43462368, 28.14294922, 27.08030633,\n",
       "       23.82504216])"
      ]
     },
     "execution_count": 34,
     "metadata": {},
     "output_type": "execute_result"
    }
   ],
   "source": [
    "#Calcul du nouveau y\n",
    "y_predit = model(X, theta_final)\n",
    "y_predit"
   ]
  },
  {
   "cell_type": "code",
   "execution_count": 35,
   "metadata": {},
   "outputs": [
    {
     "data": {
      "image/png": "[encoded data removed]",
      "text/plain": [
       "<Figure size 432x288 with 1 Axes>"
      ]
     },
     "metadata": {
      "needs_background": "light"
     },
     "output_type": "display_data"
    }
   ],
   "source": [
    "#Représentation graphique\n",
    "fig= plt.figure()\n",
    "ax=fig.add_subplot(111,projection='3d')\n",
    "#plt.xlabel(\"X_train[:,0]\")\n",
    "#plt.ylabel(\"y_train\")\n",
    "ax.scatter(X[:, 0],X[:, 1],y_obs)\n",
    "ax.scatter(X[:, 0],X[:, 1],y_predit)\n",
    "plt.title('Regression multiple')\n",
    "plt.show()"
   ]
  },
  {
   "cell_type": "markdown",
   "metadata": {},
   "source": [
    "### 5. Fonction de cout par rapport aux itérations"
   ]
  },
  {
   "cell_type": "code",
   "execution_count": 36,
   "metadata": {},
   "outputs": [
    {
     "data": {
      "image/png": "[encoded data removed]",
      "text/plain": [
       "<Figure size 432x288 with 1 Axes>"
      ]
     },
     "metadata": {
      "needs_background": "light"
     },
     "output_type": "display_data"
    }
   ],
   "source": [
    "n =np.arange(n_iteration)\n",
    "plt.scatter(n, cout_evolution_reg_m)\n",
    "plt.show()"
   ]
  },
  {
   "cell_type": "code",
   "execution_count": 37,
   "metadata": {},
   "outputs": [
    {
     "data": {
      "text/plain": [
       "0.6002093610654555"
      ]
     },
     "execution_count": 37,
     "metadata": {},
     "output_type": "execute_result"
    }
   ],
   "source": [
    "#Calcul du coefficience de détermin\n",
    "R2 = coeff_determination(X, y_obs, theta_final)\n",
    "R2"
   ]
  },
  {
   "cell_type": "markdown",
   "metadata": {},
   "source": [
    "### 6. Calcul de l'erreur"
   ]
  },
  {
   "cell_type": "code",
   "execution_count": 38,
   "metadata": {},
   "outputs": [
    {
     "data": {
      "text/plain": [
       "33.750148294244084"
      ]
     },
     "execution_count": 38,
     "metadata": {},
     "output_type": "execute_result"
    }
   ],
   "source": [
    "from sklearn.metrics import mean_squared_error\n",
    "\n",
    "mse_mult_manuel = mean_squared_error(y_obs, y_predit)\n",
    "mse_mult_manuel"
   ]
  },
  {
   "cell_type": "code",
   "execution_count": 39,
   "metadata": {},
   "outputs": [
    {
     "data": {
      "text/plain": [
       "16.87507414712204"
      ]
     },
     "execution_count": 39,
     "metadata": {},
     "output_type": "execute_result"
    }
   ],
   "source": [
    "cout_evolution_reg_m[-1]"
   ]
  },
  {
   "cell_type": "code",
   "execution_count": 40,
   "metadata": {},
   "outputs": [
    {
     "data": {
      "text/plain": [
       "16.87507414712204"
      ]
     },
     "execution_count": 40,
     "metadata": {},
     "output_type": "execute_result"
    }
   ],
   "source": [
    "cout(X, y_obs, theta_final)"
   ]
  },
  {
   "cell_type": "markdown",
   "metadata": {},
   "source": [
    "## III. Régression Polynomiale"
   ]
  },
  {
   "cell_type": "code",
   "execution_count": 41,
   "metadata": {},
   "outputs": [
    {
     "data": {
      "text/html": [
       "<div>\n",
       "<style scoped>\n",
       "    .dataframe tbody tr th:only-of-type {\n",
       "        vertical-align: middle;\n",
       "    }\n",
       "\n",
       "    .dataframe tbody tr th {\n",
       "        vertical-align: top;\n",
       "    }\n",
       "\n",
       "    .dataframe thead th {\n",
       "        text-align: right;\n",
       "    }\n",
       "</style>\n",
       "<table border=\"1\" class=\"dataframe\">\n",
       "  <thead>\n",
       "    <tr style=\"text-align: right;\">\n",
       "      <th></th>\n",
       "      <th>Position</th>\n",
       "      <th>Level</th>\n",
       "      <th>Salary</th>\n",
       "    </tr>\n",
       "  </thead>\n",
       "  <tbody>\n",
       "    <tr>\n",
       "      <th>0</th>\n",
       "      <td>Project Analyste</td>\n",
       "      <td>1</td>\n",
       "      <td>45000</td>\n",
       "    </tr>\n",
       "    <tr>\n",
       "      <th>1</th>\n",
       "      <td>Ingenieur</td>\n",
       "      <td>2</td>\n",
       "      <td>50000</td>\n",
       "    </tr>\n",
       "    <tr>\n",
       "      <th>2</th>\n",
       "      <td>Senior Consultant</td>\n",
       "      <td>3</td>\n",
       "      <td>60000</td>\n",
       "    </tr>\n",
       "    <tr>\n",
       "      <th>3</th>\n",
       "      <td>Manager</td>\n",
       "      <td>4</td>\n",
       "      <td>80000</td>\n",
       "    </tr>\n",
       "    <tr>\n",
       "      <th>4</th>\n",
       "      <td>Country Manager</td>\n",
       "      <td>5</td>\n",
       "      <td>110000</td>\n",
       "    </tr>\n",
       "    <tr>\n",
       "      <th>5</th>\n",
       "      <td>Gouverneur</td>\n",
       "      <td>6</td>\n",
       "      <td>150000</td>\n",
       "    </tr>\n",
       "    <tr>\n",
       "      <th>6</th>\n",
       "      <td>Associate</td>\n",
       "      <td>7</td>\n",
       "      <td>200000</td>\n",
       "    </tr>\n",
       "    <tr>\n",
       "      <th>7</th>\n",
       "      <td>Commercial</td>\n",
       "      <td>8</td>\n",
       "      <td>300000</td>\n",
       "    </tr>\n",
       "    <tr>\n",
       "      <th>8</th>\n",
       "      <td>C-level</td>\n",
       "      <td>9</td>\n",
       "      <td>500000</td>\n",
       "    </tr>\n",
       "    <tr>\n",
       "      <th>9</th>\n",
       "      <td>PDG</td>\n",
       "      <td>10</td>\n",
       "      <td>1000000</td>\n",
       "    </tr>\n",
       "  </tbody>\n",
       "</table>\n",
       "</div>"
      ],
      "text/plain": [
       "            Position  Level   Salary\n",
       "0   Project Analyste      1    45000\n",
       "1          Ingenieur      2    50000\n",
       "2  Senior Consultant      3    60000\n",
       "3            Manager      4    80000\n",
       "4    Country Manager      5   110000\n",
       "5         Gouverneur      6   150000\n",
       "6          Associate      7   200000\n",
       "7         Commercial      8   300000\n",
       "8            C-level      9   500000\n",
       "9                PDG     10  1000000"
      ]
     },
     "execution_count": 41,
     "metadata": {},
     "output_type": "execute_result"
    }
   ],
   "source": [
    "path = 'Position_Salaries.csv'\n",
    "salaire = pd.read_csv(path)\n",
    "salaire"
   ]
  },
  {
   "cell_type": "code",
   "execution_count": 42,
   "metadata": {},
   "outputs": [
    {
     "data": {
      "text/plain": [
       "(10, 3)"
      ]
     },
     "execution_count": 42,
     "metadata": {},
     "output_type": "execute_result"
    }
   ],
   "source": [
    "salaire.shape"
   ]
  },
  {
   "cell_type": "code",
   "execution_count": 43,
   "metadata": {},
   "outputs": [
    {
     "data": {
      "image/png": "[encoded data removed]",
      "text/plain": [
       "<Figure size 432x288 with 1 Axes>"
      ]
     },
     "metadata": {
      "needs_background": "light"
     },
     "output_type": "display_data"
    }
   ],
   "source": [
    "plt.scatter(salaire['Level'], salaire['Salary'])\n",
    "plt.show()"
   ]
  },
  {
   "cell_type": "code",
   "execution_count": 44,
   "metadata": {},
   "outputs": [
    {
     "data": {
      "text/plain": [
       "(10, 3)"
      ]
     },
     "execution_count": 44,
     "metadata": {},
     "output_type": "execute_result"
    }
   ],
   "source": [
    "#Features & target\n",
    "x = salaire['Level']\n",
    "x2 = x.pow(2)\n",
    "ones = np.ones(len(x))\n",
    "y = salaire['Salary']\n",
    "\n",
    "#Reshape\n",
    "x = np.array(x)\n",
    "x = x.reshape(len(x), 1)\n",
    "x2 = np.array(x2)\n",
    "x2 = x2.reshape(len(x2), 1)\n",
    "ones = ones.reshape(len(ones), 1)\n",
    "y = np.array(y)\n",
    "y = y.reshape(len(y), 1)\n",
    "\n",
    "#Matrice X\n",
    "X = np.hstack((x2, x, ones))\n",
    "X.shape"
   ]
  },
  {
   "cell_type": "code",
   "execution_count": 45,
   "metadata": {},
   "outputs": [
    {
     "data": {
      "text/plain": [
       "array([[-0.90210401],\n",
       "       [ 0.04571752],\n",
       "       [-1.71089364]])"
      ]
     },
     "execution_count": 45,
     "metadata": {},
     "output_type": "execute_result"
    }
   ],
   "source": [
    "#Theta\n",
    "theta = np.random.randn(3, 1)\n",
    "theta"
   ]
  },
  {
   "cell_type": "markdown",
   "metadata": {},
   "source": [
    "### 1. Calcul du modèle"
   ]
  },
  {
   "cell_type": "code",
   "execution_count": 46,
   "metadata": {},
   "outputs": [
    {
     "data": {
      "text/plain": [
       "array([[ -2.56728014],\n",
       "       [ -5.22787466],\n",
       "       [ -9.69267721],\n",
       "       [-15.96168779],\n",
       "       [-24.0349064 ],\n",
       "       [-33.91233304],\n",
       "       [-45.59396771],\n",
       "       [-59.07981041],\n",
       "       [-74.36986114],\n",
       "       [-91.4641199 ]])"
      ]
     },
     "execution_count": 46,
     "metadata": {},
     "output_type": "execute_result"
    }
   ],
   "source": [
    "y_pred = model(X, theta)\n",
    "y_pred"
   ]
  },
  {
   "cell_type": "markdown",
   "metadata": {},
   "source": [
    "### 2. Calcul de la fonction coût"
   ]
  },
  {
   "cell_type": "code",
   "execution_count": 47,
   "metadata": {},
   "outputs": [
    {
     "data": {
      "text/plain": [
       "71472796868.18787"
      ]
     },
     "execution_count": 47,
     "metadata": {},
     "output_type": "execute_result"
    }
   ],
   "source": [
    "cout_polynom = cout(X, y, theta)\n",
    "cout_polynom"
   ]
  },
  {
   "cell_type": "markdown",
   "metadata": {},
   "source": [
    "### 3. Calcul du gradient"
   ]
  },
  {
   "cell_type": "code",
   "execution_count": 48,
   "metadata": {},
   "outputs": [
    {
     "data": {
      "text/plain": [
       "array([[-17973837.33995553],\n",
       "       [ -2039780.53625492],\n",
       "       [  -249536.19045184]])"
      ]
     },
     "execution_count": 48,
     "metadata": {},
     "output_type": "execute_result"
    }
   ],
   "source": [
    "gradient_polynom = gradient(X, y, theta)\n",
    "gradient_polynom"
   ]
  },
  {
   "cell_type": "markdown",
   "metadata": {},
   "source": [
    "### 4. Calcul du gradient descendant"
   ]
  },
  {
   "cell_type": "code",
   "execution_count": 49,
   "metadata": {},
   "outputs": [],
   "source": [
    "alpha = 0.0001\n",
    "n_iter = 30\n",
    "\n",
    "theta_new, cout_evol_polynom = descente_gradient(X, y, theta, alpha, n_iter)"
   ]
  },
  {
   "cell_type": "code",
   "execution_count": 50,
   "metadata": {},
   "outputs": [],
   "source": [
    "#Calcul du nouveau y\n",
    "\n",
    "y_predi = model(X, theta_new)"
   ]
  },
  {
   "cell_type": "markdown",
   "metadata": {},
   "source": [
    "### 5. Fonction de cout par rapport aux itérations"
   ]
  },
  {
   "cell_type": "code",
   "execution_count": 51,
   "metadata": {},
   "outputs": [
    {
     "data": {
      "image/png": "[encoded data removed]",
      "text/plain": [
       "<Figure size 432x288 with 1 Axes>"
      ]
     },
     "metadata": {
      "needs_background": "light"
     },
     "output_type": "display_data"
    }
   ],
   "source": [
    "n = np.arange(n_iter)\n",
    "\n",
    "plt.scatter(n, cout_evol_polynom)\n",
    "plt.show()"
   ]
  },
  {
   "cell_type": "code",
   "execution_count": 52,
   "metadata": {},
   "outputs": [
    {
     "data": {
      "image/png": "[encoded data removed]",
      "text/plain": [
       "<Figure size 432x288 with 1 Axes>"
      ]
     },
     "metadata": {
      "needs_background": "light"
     },
     "output_type": "display_data"
    }
   ],
   "source": [
    "#Représentation graphique\n",
    "plt.scatter(X[:, 1], y, c='r')\n",
    "plt.plot(X[:, 1], y_predi)\n",
    "plt.title('Regression polynomiale')\n",
    "plt.show()"
   ]
  },
  {
   "cell_type": "code",
   "execution_count": 53,
   "metadata": {},
   "outputs": [
    {
     "data": {
      "image/png": "[encoded data removed]",
      "text/plain": [
       "<Figure size 432x288 with 1 Axes>"
      ]
     },
     "metadata": {
      "needs_background": "light"
     },
     "output_type": "display_data"
    }
   ],
   "source": [
    "plt.plot(X[:, 1], y_predi)\n",
    "plt.show()"
   ]
  },
  {
   "cell_type": "markdown",
   "metadata": {},
   "source": [
    "### 6. Calcul de l'erreur"
   ]
  },
  {
   "cell_type": "code",
   "execution_count": 54,
   "metadata": {},
   "outputs": [
    {
     "data": {
      "text/plain": [
       "7766412943.476978"
      ]
     },
     "execution_count": 54,
     "metadata": {},
     "output_type": "execute_result"
    }
   ],
   "source": [
    "mse_poly_manuel = cout(X, y, theta_new)\n",
    "mse_poly_manuel"
   ]
  },
  {
   "cell_type": "markdown",
   "metadata": {},
   "source": [
    "### 7. Calcul du coefficient de détermination"
   ]
  },
  {
   "cell_type": "code",
   "execution_count": 55,
   "metadata": {},
   "outputs": [
    {
     "data": {
      "text/plain": [
       "0.8074337637872244"
      ]
     },
     "execution_count": 55,
     "metadata": {},
     "output_type": "execute_result"
    }
   ],
   "source": [
    "r2= coeff_determination(X, y, theta_new)\n",
    "r2"
   ]
  },
  {
   "cell_type": "markdown",
   "metadata": {},
   "source": [
    "-------------------------------------------"
   ]
  },
  {
   "cell_type": "markdown",
   "metadata": {},
   "source": [
    "### Dataframe du vin"
   ]
  },
  {
   "cell_type": "code",
   "execution_count": 56,
   "metadata": {},
   "outputs": [
    {
     "data": {
      "text/html": [
       "<div>\n",
       "<style scoped>\n",
       "    .dataframe tbody tr th:only-of-type {\n",
       "        vertical-align: middle;\n",
       "    }\n",
       "\n",
       "    .dataframe tbody tr th {\n",
       "        vertical-align: top;\n",
       "    }\n",
       "\n",
       "    .dataframe thead th {\n",
       "        text-align: right;\n",
       "    }\n",
       "</style>\n",
       "<table border=\"1\" class=\"dataframe\">\n",
       "  <thead>\n",
       "    <tr style=\"text-align: right;\">\n",
       "      <th></th>\n",
       "      <th>acidité fixe</th>\n",
       "      <th>acidité volatile</th>\n",
       "      <th>acide citrique</th>\n",
       "      <th>sucre résiduel</th>\n",
       "      <th>chlorures</th>\n",
       "      <th>dioxyde de soufre libre</th>\n",
       "      <th>anhydride sulfureux total</th>\n",
       "      <th>densité</th>\n",
       "      <th>pH</th>\n",
       "      <th>sulphates</th>\n",
       "      <th>alcool</th>\n",
       "      <th>qualité</th>\n",
       "    </tr>\n",
       "  </thead>\n",
       "  <tbody>\n",
       "    <tr>\n",
       "      <th>0</th>\n",
       "      <td>7.4</td>\n",
       "      <td>0.70</td>\n",
       "      <td>0.00</td>\n",
       "      <td>1.9</td>\n",
       "      <td>0.076</td>\n",
       "      <td>11.0</td>\n",
       "      <td>34.0</td>\n",
       "      <td>0.9978</td>\n",
       "      <td>3.51</td>\n",
       "      <td>0.56</td>\n",
       "      <td>9.4</td>\n",
       "      <td>5</td>\n",
       "    </tr>\n",
       "    <tr>\n",
       "      <th>1</th>\n",
       "      <td>7.8</td>\n",
       "      <td>0.88</td>\n",
       "      <td>0.00</td>\n",
       "      <td>2.6</td>\n",
       "      <td>0.098</td>\n",
       "      <td>25.0</td>\n",
       "      <td>67.0</td>\n",
       "      <td>0.9968</td>\n",
       "      <td>3.20</td>\n",
       "      <td>0.68</td>\n",
       "      <td>9.8</td>\n",
       "      <td>5</td>\n",
       "    </tr>\n",
       "    <tr>\n",
       "      <th>2</th>\n",
       "      <td>7.8</td>\n",
       "      <td>0.76</td>\n",
       "      <td>0.04</td>\n",
       "      <td>2.3</td>\n",
       "      <td>0.092</td>\n",
       "      <td>15.0</td>\n",
       "      <td>54.0</td>\n",
       "      <td>0.9970</td>\n",
       "      <td>3.26</td>\n",
       "      <td>0.65</td>\n",
       "      <td>9.8</td>\n",
       "      <td>5</td>\n",
       "    </tr>\n",
       "    <tr>\n",
       "      <th>3</th>\n",
       "      <td>11.2</td>\n",
       "      <td>0.28</td>\n",
       "      <td>0.56</td>\n",
       "      <td>1.9</td>\n",
       "      <td>0.075</td>\n",
       "      <td>17.0</td>\n",
       "      <td>60.0</td>\n",
       "      <td>0.9980</td>\n",
       "      <td>3.16</td>\n",
       "      <td>0.58</td>\n",
       "      <td>9.8</td>\n",
       "      <td>6</td>\n",
       "    </tr>\n",
       "    <tr>\n",
       "      <th>4</th>\n",
       "      <td>7.4</td>\n",
       "      <td>0.70</td>\n",
       "      <td>0.00</td>\n",
       "      <td>1.9</td>\n",
       "      <td>0.076</td>\n",
       "      <td>11.0</td>\n",
       "      <td>34.0</td>\n",
       "      <td>0.9978</td>\n",
       "      <td>3.51</td>\n",
       "      <td>0.56</td>\n",
       "      <td>9.4</td>\n",
       "      <td>5</td>\n",
       "    </tr>\n",
       "  </tbody>\n",
       "</table>\n",
       "</div>"
      ],
      "text/plain": [
       "   acidité fixe  acidité volatile  acide citrique  sucre résiduel  chlorures  \\\n",
       "0           7.4              0.70            0.00             1.9      0.076   \n",
       "1           7.8              0.88            0.00             2.6      0.098   \n",
       "2           7.8              0.76            0.04             2.3      0.092   \n",
       "3          11.2              0.28            0.56             1.9      0.075   \n",
       "4           7.4              0.70            0.00             1.9      0.076   \n",
       "\n",
       "   dioxyde de soufre libre  anhydride sulfureux total  densité    pH  \\\n",
       "0                     11.0                       34.0   0.9978  3.51   \n",
       "1                     25.0                       67.0   0.9968  3.20   \n",
       "2                     15.0                       54.0   0.9970  3.26   \n",
       "3                     17.0                       60.0   0.9980  3.16   \n",
       "4                     11.0                       34.0   0.9978  3.51   \n",
       "\n",
       "   sulphates  alcool  qualité  \n",
       "0       0.56     9.4        5  \n",
       "1       0.68     9.8        5  \n",
       "2       0.65     9.8        5  \n",
       "3       0.58     9.8        6  \n",
       "4       0.56     9.4        5  "
      ]
     },
     "execution_count": 56,
     "metadata": {},
     "output_type": "execute_result"
    }
   ],
   "source": [
    "path_vin = 'qualite-vin-rouge.csv'\n",
    "df_vin = pd.read_csv(path_vin)\n",
    "df_vin.head()"
   ]
  },
  {
   "cell_type": "code",
   "execution_count": 57,
   "metadata": {},
   "outputs": [
    {
     "data": {
      "text/plain": [
       "(1599, 12)"
      ]
     },
     "execution_count": 57,
     "metadata": {},
     "output_type": "execute_result"
    }
   ],
   "source": [
    "df_vin.shape"
   ]
  },
  {
   "cell_type": "code",
   "execution_count": 58,
   "metadata": {
    "scrolled": true
   },
   "outputs": [
    {
     "data": {
      "text/plain": [
       "acidité fixe                 float64\n",
       "acidité volatile             float64\n",
       "acide citrique               float64\n",
       "sucre résiduel               float64\n",
       "chlorures                    float64\n",
       "dioxyde de soufre libre      float64\n",
       "anhydride sulfureux total    float64\n",
       "densité                      float64\n",
       "pH                           float64\n",
       "sulphates                    float64\n",
       "alcool                       float64\n",
       "qualité                        int64\n",
       "dtype: object"
      ]
     },
     "execution_count": 58,
     "metadata": {},
     "output_type": "execute_result"
    }
   ],
   "source": [
    "df_vin.dtypes"
   ]
  },
  {
   "cell_type": "markdown",
   "metadata": {},
   "source": [
    "#### Corrélation entre les variables"
   ]
  },
  {
   "cell_type": "code",
   "execution_count": 59,
   "metadata": {},
   "outputs": [
    {
     "data": {
      "text/plain": [
       "qualité                      1.000000\n",
       "alcool                       0.476166\n",
       "sulphates                    0.251397\n",
       "acide citrique               0.226373\n",
       "acidité fixe                 0.124052\n",
       "sucre résiduel               0.013732\n",
       "dioxyde de soufre libre     -0.050656\n",
       "pH                          -0.057731\n",
       "chlorures                   -0.128907\n",
       "densité                     -0.174919\n",
       "anhydride sulfureux total   -0.185100\n",
       "acidité volatile            -0.390558\n",
       "dtype: float64"
      ]
     },
     "execution_count": 59,
     "metadata": {},
     "output_type": "execute_result"
    }
   ],
   "source": [
    "df_vin.corrwith(df_vin['qualité']).sort_values(ascending = False)"
   ]
  },
  {
   "cell_type": "code",
   "execution_count": 60,
   "metadata": {
    "scrolled": true
   },
   "outputs": [
    {
     "data": {
      "image/png": "[encoded data removed]",
      "text/plain": [
       "<Figure size 432x288 with 1 Axes>"
      ]
     },
     "metadata": {
      "needs_background": "light"
     },
     "output_type": "display_data"
    }
   ],
   "source": [
    "plt.scatter(df_vin['alcool'], df_vin['qualité'])\n",
    "plt.show()"
   ]
  },
  {
   "cell_type": "code",
   "execution_count": 61,
   "metadata": {},
   "outputs": [
    {
     "data": {
      "text/plain": [
       "array([[ 88.36,   9.4 ,   1.  ],\n",
       "       [ 96.04,   9.8 ,   1.  ],\n",
       "       [ 96.04,   9.8 ,   1.  ],\n",
       "       ...,\n",
       "       [121.  ,  11.  ,   1.  ],\n",
       "       [104.04,  10.2 ,   1.  ],\n",
       "       [121.  ,  11.  ,   1.  ]])"
      ]
     },
     "execution_count": 61,
     "metadata": {},
     "output_type": "execute_result"
    }
   ],
   "source": [
    "#Features\n",
    "x = df_vin['alcool']\n",
    "x2 =x.pow(2)\n",
    "ones =np.ones(len(x)).reshape(-1, 1)\n",
    "x = np.array(x).reshape(-1, 1)\n",
    "x2 = np.array(x2).reshape(-1, 1)\n",
    "\n",
    "#Target\n",
    "y = df_vin['qualité']\n",
    "y = np.array(y).reshape(-1, 1)\n",
    "\n",
    "#Matrice X\n",
    "X = np.hstack((x2, x, ones))\n",
    "\n",
    "#Theta\n",
    "theta = np.random.randn(3, 1)\n",
    "theta\n",
    "X"
   ]
  },
  {
   "cell_type": "code",
   "execution_count": 62,
   "metadata": {},
   "outputs": [],
   "source": [
    "#Model\n",
    "y_pre = model(X, theta)\n",
    "\n",
    "#Coût\n",
    "cout_vin = cout(X, y, theta)\n",
    "\n",
    "#gradient\n",
    "gradient_vin = gradient(X, y, theta)\n",
    "\n",
    "#Descente de gradient\n",
    "alpha = 0.001\n",
    "n_iteration = 30\n",
    "new_theta_vin, cout_evolution_vin = descente_gradient(X, y, theta, alpha, n_iteration)\n",
    "\n"
   ]
  },
  {
   "cell_type": "code",
   "execution_count": 63,
   "metadata": {},
   "outputs": [
    {
     "data": {
      "text/plain": [
       "array([[1.70675680e+33],\n",
       "       [1.85434820e+33],\n",
       "       [1.85434820e+33],\n",
       "       ...,\n",
       "       [2.33384264e+33],\n",
       "       [2.00805963e+33],\n",
       "       [2.33384264e+33]])"
      ]
     },
     "execution_count": 63,
     "metadata": {},
     "output_type": "execute_result"
    }
   ],
   "source": [
    "y_new = model(X, new_theta_vin)\n",
    "y_new"
   ]
  },
  {
   "cell_type": "markdown",
   "metadata": {},
   "source": [
    "## IV. Scikit-Learn"
   ]
  },
  {
   "cell_type": "markdown",
   "metadata": {},
   "source": [
    "### 1. Régression Linéaire\n",
    "Dataframe des notes en fonction des heures révision"
   ]
  },
  {
   "cell_type": "code",
   "execution_count": 64,
   "metadata": {},
   "outputs": [],
   "source": [
    "#Conversion du dataframe en numpy array\n",
    "np_reg_simple = reg_simple.to_numpy()\n",
    "\n",
    "#Feature\n",
    "X = np_reg_simple[:, 0]\n",
    "X = X.reshape(-1, 1)\n",
    "\n",
    "#Target\n",
    "y = np_reg_simple[:, 1]\n",
    "y = y.reshape(-1, 1)\n",
    "\n",
    "#Fractionnement du jeu de données en x_train, x_test...\n",
    "X_train, X_test, y_train, y_test = train_test_split(X, y, test_size = 0.2)\n",
    "\n",
    "#Définition du modèle\n",
    "model = LinearRegression()\n",
    "\n",
    "#Entrainement du modèle\n",
    "model.fit(X_train, y_train)\n",
    "\n",
    "#Prédiction des y\n",
    "y_predict = model.predict(X_test)\n"
   ]
  },
  {
   "cell_type": "code",
   "execution_count": 65,
   "metadata": {},
   "outputs": [
    {
     "data": {
      "image/png": "[encoded data removed]",
      "text/plain": [
       "<Figure size 432x288 with 1 Axes>"
      ]
     },
     "metadata": {
      "needs_background": "light"
     },
     "output_type": "display_data"
    }
   ],
   "source": [
    "#Visualisation des résultats du modèle sur les valeurs tests\n",
    "plt.scatter(X_test, y_test, c = 'salmon')\n",
    "plt.plot(X_test, y_predict)\n",
    "plt.title('Regression linéaire (Sk-learn)')\n",
    "plt.show()"
   ]
  },
  {
   "cell_type": "code",
   "execution_count": 66,
   "metadata": {},
   "outputs": [
    {
     "data": {
      "text/plain": [
       "24.008"
      ]
     },
     "execution_count": 66,
     "metadata": {},
     "output_type": "execute_result"
    }
   ],
   "source": [
    "#Calcul de la Mean Squared Error\n",
    "mse_lin_skl = mean_squared_error(y_test, y_predict)\n",
    "round(mse_lin_skl, 3)"
   ]
  },
  {
   "cell_type": "markdown",
   "metadata": {},
   "source": [
    "#### Comparaison des modèles"
   ]
  },
  {
   "cell_type": "code",
   "execution_count": 67,
   "metadata": {},
   "outputs": [
    {
     "name": "stdout",
     "output_type": "stream",
     "text": [
      "L'erreur quadratique à la moyenne est de 9.904 pour le modèle manuel et de 24.008 pour le modèle de SK-Learn.\n"
     ]
    }
   ],
   "source": [
    "print(f\"L'erreur quadratique à la moyenne est de {round(mse_lin_manuel, 3)} pour le modèle manuel et de {round(mse_lin_skl, 3)} pour le modèle de SK-Learn.\")"
   ]
  },
  {
   "cell_type": "markdown",
   "metadata": {},
   "source": [
    "### 2. Régression multiple"
   ]
  },
  {
   "cell_type": "code",
   "execution_count": 68,
   "metadata": {},
   "outputs": [
    {
     "data": {
      "text/plain": [
       "Index(['CRIM', 'ZN', 'INDUS', 'CHAS', 'NOX', 'RM', 'AGE', 'DIS', 'RAD', 'TAX',\n",
       "       'PTRATIO', 'B', 'LSTAT', 'MEDV'],\n",
       "      dtype='object')"
      ]
     },
     "execution_count": 68,
     "metadata": {},
     "output_type": "execute_result"
    }
   ],
   "source": [
    "boston_prices.columns"
   ]
  },
  {
   "cell_type": "code",
   "execution_count": 69,
   "metadata": {},
   "outputs": [
    {
     "data": {
      "text/plain": [
       "(102,)"
      ]
     },
     "execution_count": 69,
     "metadata": {},
     "output_type": "execute_result"
    }
   ],
   "source": [
    "#Conversion du dataframe en numpy array\n",
    "#np_boston_prices = boston_prices.to_numpy()\n",
    "\n",
    "#Feature\n",
    "X = boston_prices[['RM', 'LSTAT']]\n",
    "\n",
    "#Target\n",
    "y = boston_prices['MEDV']\n",
    "\n",
    "#Fractionnement du jeu de données en x_train, x_test...\n",
    "X_train, X_test, y_train, y_test = train_test_split(X, y, test_size = 0.2)\n",
    "\n",
    "#Définition du modèle\n",
    "model = LinearRegression()\n",
    "\n",
    "#Entrainement du modèle\n",
    "model.fit(X_train, y_train)\n",
    "\n",
    "#Prédiction des y\n",
    "y_predits = model.predict(X_test)\n",
    "y_predits.shape\n",
    "#y_test.shape"
   ]
  },
  {
   "cell_type": "code",
   "execution_count": 70,
   "metadata": {},
   "outputs": [
    {
     "data": {
      "text/plain": [
       "178     6.92\n",
       "484    13.34\n",
       "430    17.64\n",
       "498    12.92\n",
       "250     5.90\n",
       "       ...  \n",
       "475    24.10\n",
       "421    15.70\n",
       "254     6.57\n",
       "112    16.21\n",
       "354     8.05\n",
       "Name: LSTAT, Length: 102, dtype: float64"
      ]
     },
     "execution_count": 70,
     "metadata": {},
     "output_type": "execute_result"
    }
   ],
   "source": [
    "X_test.iloc[:, 1]"
   ]
  },
  {
   "cell_type": "code",
   "execution_count": 71,
   "metadata": {},
   "outputs": [
    {
     "data": {
      "image/png": "[encoded data removed]",
      "text/plain": [
       "<Figure size 432x288 with 1 Axes>"
      ]
     },
     "metadata": {
      "needs_background": "light"
     },
     "output_type": "display_data"
    }
   ],
   "source": [
    "#Visualisation des résultats du modèle sur les valeurs tests\n",
    "y_test = np.array(y_test)\n",
    "y_test = y_test.reshape(-1, 1)\n",
    "\n",
    "from mpl_toolkits.mplot3d import Axes3D\n",
    "#%matplotlib notebook\n",
    "fig= plt.figure()\n",
    "ax=fig.add_subplot(111,projection='3d')\n",
    "\n",
    "ax.scatter(X_test.iloc[:, 0],X_test.iloc[:, 1],y_test)\n",
    "ax.scatter(X_test.iloc[:, 0],X_test.iloc[:, 1],y_predits)\n",
    "plt.title('Regression multiple (Sk-learn)')\n",
    "plt.show()"
   ]
  },
  {
   "cell_type": "code",
   "execution_count": 72,
   "metadata": {},
   "outputs": [
    {
     "data": {
      "text/plain": [
       "32.72831791580206"
      ]
     },
     "execution_count": 72,
     "metadata": {},
     "output_type": "execute_result"
    }
   ],
   "source": [
    "#Calcul de la Mean Squared Error\n",
    "mse_mult_skl = mean_squared_error(y_test, y_predits)\n",
    "mse_mult_skl"
   ]
  },
  {
   "cell_type": "markdown",
   "metadata": {},
   "source": [
    "#### Comparaison des modèles"
   ]
  },
  {
   "cell_type": "code",
   "execution_count": 73,
   "metadata": {},
   "outputs": [
    {
     "name": "stdout",
     "output_type": "stream",
     "text": [
      "L'erreur quadratique à la moyenne est de 33.75 pour le modèle manuel et de 32.728 pour le modèle de SK-Learn.\n"
     ]
    }
   ],
   "source": [
    "print(f\"L'erreur quadratique à la moyenne est de {round(mse_mult_manuel, 3)} pour le modèle manuel et de {round(mse_mult_skl, 3)} pour le modèle de SK-Learn.\")"
   ]
  },
  {
   "cell_type": "markdown",
   "metadata": {},
   "source": [
    "### 3. Régression polynomiale"
   ]
  },
  {
   "cell_type": "code",
   "execution_count": 74,
   "metadata": {},
   "outputs": [],
   "source": [
    "#Conversion du dataframe en numpy array\n",
    "np_salaire = salaire.to_numpy()\n",
    "\n",
    "#Feature\n",
    "X = np_salaire[:,1]\n",
    "X = X.reshape(-1, 1)\n",
    "\n",
    "#Target\n",
    "y = np_salaire[:, 2]\n",
    "y = y.reshape(-1, 1)\n",
    "\n",
    "#Polynomiale\n",
    "polynomiale = PolynomialFeatures(degree = 3)\n",
    "X = polynomiale.fit_transform(X)\n",
    "\n",
    "#Fractionnement du jeu de données en x_train, x_test...\n",
    "X_train, X_test, y_train, y_test = train_test_split(X, y, test_size = 0.3)\n",
    "\n",
    "#Définition du modèle\n",
    "model = LinearRegression()\n",
    "\n",
    "#Entrainement du modèle\n",
    "model.fit(X_train, y_train)\n",
    "\n",
    "#Prédiction des y\n",
    "y_predicts = model.predict(X_test)\n"
   ]
  },
  {
   "cell_type": "code",
   "execution_count": 75,
   "metadata": {},
   "outputs": [
    {
     "data": {
      "image/png": "[encoded data removed]",
      "text/plain": [
       "<Figure size 432x288 with 1 Axes>"
      ]
     },
     "metadata": {
      "needs_background": "light"
     },
     "output_type": "display_data"
    }
   ],
   "source": [
    "#Visualisation des résultats du modèle sur les valeurs tests\n",
    "plt.scatter(X_test[:, 2], y_test)\n",
    "plt.plot(X_test[:,2], y_predicts)\n",
    "plt.title('Regression polynomiale (Sk-learn)')\n",
    "plt.show()"
   ]
  },
  {
   "cell_type": "code",
   "execution_count": 76,
   "metadata": {},
   "outputs": [
    {
     "data": {
      "text/plain": [
       "26619796798.960537"
      ]
     },
     "execution_count": 76,
     "metadata": {},
     "output_type": "execute_result"
    }
   ],
   "source": [
    "#Calcul de la Mean Squared Error\n",
    "mse_poly_skl = mean_squared_error(y_test, y_predicts)\n",
    "mse_poly_skl"
   ]
  },
  {
   "cell_type": "markdown",
   "metadata": {},
   "source": [
    "#### Comparaison des modèles"
   ]
  },
  {
   "cell_type": "code",
   "execution_count": 77,
   "metadata": {
    "scrolled": true
   },
   "outputs": [
    {
     "name": "stdout",
     "output_type": "stream",
     "text": [
      "L'erreur quadratique à la moyenne est de 7766412943.477 pour le modèle manuel et de 26619796798.961 pour le modèle de SK-Learn.\n"
     ]
    }
   ],
   "source": [
    "print(f\"L'erreur quadratique à la moyenne est de {round(mse_poly_manuel, 3)} pour le modèle manuel et de {round(mse_poly_skl, 3)} pour le modèle de SK-Learn.\")"
   ]
  },
  {
   "cell_type": "code",
   "execution_count": null,
   "metadata": {},
   "outputs": [],
   "source": [
    "\n"
   ]
  },
  {
   "cell_type": "code",
   "execution_count": null,
   "metadata": {},
   "outputs": [],
   "source": []
  },
  {
   "cell_type": "code",
   "execution_count": null,
   "metadata": {},
   "outputs": [],
   "source": []
  },
  {
   "cell_type": "code",
   "execution_count": null,
   "metadata": {},
   "outputs": [],
   "source": []
  }
 ],
 "metadata": {
  "kernelspec": {
   "display_name": "Python 3 (ipykernel)",
   "language": "python",
   "name": "python3"
  },
  "language_info": {
   "codemirror_mode": {
    "name": "ipython",
    "version": 3
   },
   "file_extension": ".py",
   "mimetype": "text/x-python",
   "name": "python",
   "nbconvert_exporter": "python",
   "pygments_lexer": "ipython3",
   "version": "3.9.7"
  }
 },
 "nbformat": 4,
 "nbformat_minor": 4
}
